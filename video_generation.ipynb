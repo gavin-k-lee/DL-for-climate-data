{
 "cells": [
  {
   "cell_type": "markdown",
   "metadata": {},
   "source": [
    "# Generates a series of PNGs to be stitched together with ffmpeg or similar"
   ]
  },
  {
   "cell_type": "code",
   "execution_count": 1,
   "metadata": {},
   "outputs": [],
   "source": [
    "import matplotlib.pyplot as plt\n",
    "import netCDF4\n",
    "import numpy as np\n",
    "import pandas as pd\n",
    "from mpl_toolkits.basemap import Basemap\n",
    "from tqdm import tqdm\n",
    "###################################################\n",
    "import torch\n",
    "from sklearn.decomposition import IncrementalPCA\n",
    "from sklearn.model_selection import train_test_split\n",
    "###################################################\n",
    "import torch\n",
    "import torchvision as tv\n",
    "import torchvision.transforms as transforms\n",
    "import torch.nn as nn\n",
    "import torch.nn.functional as F\n",
    "from torch.autograd import Variable\n",
    "from torchvision.utils import save_image\n",
    "from torch.utils.data import Dataset, DataLoader\n",
    "from torchsummary import summary\n",
    "###################################################\n",
    "from livelossplot import PlotLosses\n",
    "import hiddenlayer as hl\n",
    "###################################################\n",
    "import pickle\n",
    "import os\n",
    "###################################################\n",
    "import scipy as sp\n",
    "import scipy.fftpack"
   ]
  },
  {
   "cell_type": "code",
   "execution_count": 2,
   "metadata": {},
   "outputs": [],
   "source": [
    "temp_nc = netCDF4.Dataset('../eniko/data/tas/tas_day_MPI-ESM-MR_rcp85_r1i1p1_g025.nc')\n",
    "temp_ncdata_3D = np.array(temp_nc.variables['tas'])\n",
    "temp_ncdata_2D = temp_ncdata_3D.reshape(temp_ncdata_3D.shape[0], temp_ncdata_3D.shape[1]*temp_ncdata_3D.shape[2])        \n",
    "\n",
    "dates = pd.to_datetime(netCDF4.num2date(temp_nc.variables['time'][:], temp_nc.variables['time'].units)).year\n",
    "temp_ncdata_df = pd.DataFrame(temp_ncdata_2D, index = dates)"
   ]
  },
  {
   "cell_type": "code",
   "execution_count": 3,
   "metadata": {},
   "outputs": [],
   "source": [
    "train_start = 2025\n",
    "train_end = 2100\n",
    "\n",
    "test_start = 1975\n",
    "test_end = 1978\n",
    "\n",
    "max_fts = 10\n",
    "batch_size = 100"
   ]
  },
  {
   "cell_type": "code",
   "execution_count": 4,
   "metadata": {},
   "outputs": [],
   "source": [
    "# PCA type\n",
    "train_idx = temp_ncdata_df.index.isin(range(train_start,train_end+1))\n",
    "train_samples = temp_ncdata_df.iloc[train_idx]\n",
    "train_years = temp_ncdata_df.index[temp_ncdata_df.index.isin(range(train_start,train_end+1))]\n",
    "\n",
    "test_idx = temp_ncdata_df.index.isin(range(test_start,test_end+1))\n",
    "test_samples = temp_ncdata_df.iloc[test_idx]\n",
    "test_years = temp_ncdata_df.index[temp_ncdata_df.index.isin(range(test_start,test_end+1))]\n",
    "\n",
    "# Standardise the training samples\n",
    "train_samples = torch.tensor(train_samples.values)#.double()\n",
    "test_samples = torch.tensor(test_samples.values)#.double()\n",
    "\n",
    "mu, sig = train_samples.mean(), train_samples.std()\n",
    "\n",
    "# train_samples = train_samples.sub(mu).div(sig)\n",
    "# test_samples = test_samples.sub(mu).div(sig)\n",
    "\n",
    "mmin = min(train_samples.min(),test_samples.min())\n",
    "mmax = max(train_samples.max(),test_samples.max())\n",
    "\n",
    "# # Normalise instead\n",
    "train_samples = (train_samples - mmin) / (mmax - mmin)\n",
    "test_samples = (test_samples - mmin) / (mmax - mmin)\n",
    "\n",
    "\n",
    "\n",
    "train_data = DataLoader(train_samples, batch_size=batch_size)\n",
    "test_data = DataLoader(test_samples, batch_size=batch_size)\n"
   ]
  },
  {
   "cell_type": "markdown",
   "metadata": {},
   "source": [
    "# Load autoencoder model"
   ]
  },
  {
   "cell_type": "code",
   "execution_count": 7,
   "metadata": {},
   "outputs": [],
   "source": [
    "class AutoEncoder(nn.Module):\n",
    "    def __init__(self, layers):\n",
    "        super(AutoEncoder,self).__init__()\n",
    "        assert len(layers) == 5, 'Not the right number of layer numbers'\n",
    "        self.encoder = nn.Sequential(\n",
    "            nn.Conv2d(1, layers[0], kernel_size=(3,5))\n",
    "            ,nn.MaxPool2d(2)\n",
    "            ,nn.ReLU()\n",
    "            \n",
    "            ,nn.Conv2d(layers[0], layers[1], kernel_size=(2,5))\n",
    "            ,nn.MaxPool2d((2,3))\n",
    "            ,nn.ReLU()\n",
    "            \n",
    "            ,nn.Conv2d(layers[1], layers[2], kernel_size=(2,3))\n",
    "            ,nn.MaxPool2d(2)\n",
    "            ,nn.ReLU()\n",
    "            \n",
    "            ,nn.Conv2d(layers[2], layers[3], kernel_size=(3,3))\n",
    "            ,nn.MaxPool2d(2)\n",
    "            ,nn.ReLU()\n",
    "            \n",
    "            ,nn.Conv2d(layers[3], layers[4], kernel_size=(2,3))\n",
    "            ,nn.MaxPool2d(2)\n",
    "        )\n",
    "        \n",
    "        self.decoder = nn.Sequential(\n",
    "            \n",
    "            nn.ConvTranspose2d(layers[4], layers[3], kernel_size=(3,4), stride=(3,4))\n",
    "            ,nn.ReLU()\n",
    "                    \n",
    "            ,nn.ConvTranspose2d(layers[3], layers[2], kernel_size=(3,3), stride=(3,3))\n",
    "            ,nn.ReLU()\n",
    "            \n",
    "            ,nn.ConvTranspose2d(layers[2], layers[1], kernel_size=(2,3), stride=(2,3))\n",
    "            ,nn.ReLU()\n",
    "            \n",
    "#             ,nn.PixelShuffle(2)\n",
    "            \n",
    "            ,nn.ConvTranspose2d(layers[1], layers[0], kernel_size=2, stride=2)\n",
    "            ,nn.ReLU()\n",
    "                       \n",
    "            ,nn.ConvTranspose2d(layers[0], 1, kernel_size=(2,2), stride=(2,2))\n",
    "            ,nn.Sigmoid()\n",
    "        )\n",
    "        \n",
    "    def forward(self, x):\n",
    "        # Encoder part\n",
    "        y = self.encoder(x)\n",
    "        # Decoder part\n",
    "        x = self.decoder(y)\n",
    "        return y, x # x is the output of the autoencoder, y is the output of the encoder"
   ]
  },
  {
   "cell_type": "code",
   "execution_count": 8,
   "metadata": {},
   "outputs": [],
   "source": [
    "bottleneck=256"
   ]
  },
  {
   "cell_type": "code",
   "execution_count": 15,
   "metadata": {},
   "outputs": [
    {
     "data": {
      "text/plain": [
       "AutoEncoder(\n",
       "  (encoder): Sequential(\n",
       "    (0): Conv2d(1, 8, kernel_size=(3, 5), stride=(1, 1))\n",
       "    (1): MaxPool2d(kernel_size=2, stride=2, padding=0, dilation=1, ceil_mode=False)\n",
       "    (2): ReLU()\n",
       "    (3): Conv2d(8, 32, kernel_size=(2, 5), stride=(1, 1))\n",
       "    (4): MaxPool2d(kernel_size=(2, 3), stride=(2, 3), padding=0, dilation=1, ceil_mode=False)\n",
       "    (5): ReLU()\n",
       "    (6): Conv2d(32, 64, kernel_size=(2, 3), stride=(1, 1))\n",
       "    (7): MaxPool2d(kernel_size=2, stride=2, padding=0, dilation=1, ceil_mode=False)\n",
       "    (8): ReLU()\n",
       "    (9): Conv2d(64, 128, kernel_size=(3, 3), stride=(1, 1))\n",
       "    (10): MaxPool2d(kernel_size=2, stride=2, padding=0, dilation=1, ceil_mode=False)\n",
       "    (11): ReLU()\n",
       "    (12): Conv2d(128, 256, kernel_size=(2, 3), stride=(1, 1))\n",
       "    (13): MaxPool2d(kernel_size=2, stride=2, padding=0, dilation=1, ceil_mode=False)\n",
       "  )\n",
       "  (decoder): Sequential(\n",
       "    (0): ConvTranspose2d(256, 128, kernel_size=(3, 4), stride=(3, 4))\n",
       "    (1): ReLU()\n",
       "    (2): ConvTranspose2d(128, 64, kernel_size=(3, 3), stride=(3, 3))\n",
       "    (3): ReLU()\n",
       "    (4): ConvTranspose2d(64, 32, kernel_size=(2, 3), stride=(2, 3))\n",
       "    (5): ReLU()\n",
       "    (6): ConvTranspose2d(32, 8, kernel_size=(2, 2), stride=(2, 2))\n",
       "    (7): ReLU()\n",
       "    (8): ConvTranspose2d(8, 1, kernel_size=(2, 2), stride=(2, 2))\n",
       "    (9): Sigmoid()\n",
       "  )\n",
       ")"
      ]
     },
     "execution_count": 15,
     "metadata": {},
     "output_type": "execute_result"
    }
   ],
   "source": [
    "# This will train the model\n",
    "num_epochs = 20\n",
    "bottleneck= 256\n",
    "\n",
    "# Parameters for regularisation - what should these be??\n",
    "tv_lambda = 0.01\n",
    "# l1_lambda = 1.0\n",
    "\n",
    "reg_TV = True\n",
    "reg_BN = False\n",
    "# ae_model = 'data/models/autoencoder/ae_reg_TV_{}_BN_{}_{}_{}_to_{}_{}_epochs_tv_lambda_{}.pickle'.format(\\\n",
    "#                                                                                                 str(reg_TV)\n",
    "#                                                                                                 ,str(reg_BN)\n",
    "#                                                                                                 ,bottleneck\n",
    "#                                                                                                 ,train_start\n",
    "#                                                                                                 ,train_end\n",
    "#                                                                                                 ,num_epochs\n",
    "#                                                                                                 ,tv_lambda)\n",
    "ae_model = 'data/models/autoencoder/ae_reg_TV_True_BN_False_256_2025_to_2100_20_epochs_tv_lambda_0.001.pickle'\n",
    "model = AutoEncoder(layers=[8,32,64,128,256])\n",
    "model.load_state_dict(torch.load(ae_model))\n",
    "model.eval()"
   ]
  },
  {
   "cell_type": "code",
   "execution_count": 6,
   "metadata": {},
   "outputs": [],
   "source": [
    "with open('data/models/pca/pca_5_2025_to_2100.pickle', 'rb') as file:\n",
    "    pca_model = pickle.load(file)"
   ]
  },
  {
   "cell_type": "code",
   "execution_count": null,
   "metadata": {},
   "outputs": [
    {
     "name": "stderr",
     "output_type": "stream",
     "text": [
      "100%|██████████| 1095/1095 [00:42<00:00, 25.60it/s]\n"
     ]
    }
   ],
   "source": [
    "long = [0, 360]\n",
    "lat = [-90, 90]\n",
    "\n",
    "import matplotlib.animation as animation\n",
    "\n",
    "fig = plt.figure(figsize=(16,6))\n",
    "\n",
    "my_map = Basemap(projection = 'cyl', llcrnrlat = lat[0], llcrnrlon = long[0], urcrnrlat = lat[1], urcrnrlon = long[1])\n",
    "my_map.drawcoastlines()\n",
    "my_map.drawparallels( np.arange(-90,90.01,30.0), labels = [1,0,0,0], fontsize = 12, linewidth = 0)\n",
    "my_map.drawmeridians( np.arange(0.,360.,30.), labels = [0,0,0,1], fontsize = 12, linewidth = 0)\n",
    "\n",
    "mynorm = plt.Normalize(vmin=0.0, vmax=1.0)\n",
    "\n",
    "ims = []\n",
    "\n",
    "for k in tqdm(range(test_samples.shape[0])[0:(365*3)]):\n",
    "\n",
    "    # y, x = model(annual_samples[k].reshape(1,1,72,144))\n",
    "\n",
    "    # h = my_map.imshow(x.detach().numpy().reshape(72,144), cmap = 'jet', norm=mynorm, interpolation = 'none', animated = True)\n",
    "\n",
    "\n",
    "    transformed_img = pca_model.transform(test_samples[k].reshape(1,72*144).detach().numpy())\n",
    "    inv = pca_model.inverse_transform(transformed_img)\n",
    "\n",
    "    h = my_map.imshow(inv.reshape(72,144), cmap = 'jet', norm=mynorm, interpolation = 'none', animated = True)\n",
    "\n",
    "    my_map.colorbar(h, size = \"2%\")#, pad=\"40%\", ticks = range(cmin, cmax + 1, cint))\n",
    "\n",
    "    plt.title(\"Near-surface air temperature\")\n",
    "\n",
    "    ims.append([h])\n",
    "\n"
   ]
  },
  {
   "cell_type": "code",
   "execution_count": 11,
   "metadata": {},
   "outputs": [],
   "source": [
    "ani = animation.ArtistAnimation(fig, ims, interval=50, blit=True, repeat_delay=1000)\n",
    "\n",
    "ani.save('data/videos/pca/test_256.mp4')"
   ]
  }
 ],
 "metadata": {
  "kernelspec": {
   "display_name": "Python 3",
   "language": "python",
   "name": "python3"
  },
  "language_info": {
   "codemirror_mode": {
    "name": "ipython",
    "version": 3
   },
   "file_extension": ".py",
   "mimetype": "text/x-python",
   "name": "python",
   "nbconvert_exporter": "python",
   "pygments_lexer": "ipython3",
   "version": "3.7.4"
  }
 },
 "nbformat": 4,
 "nbformat_minor": 2
}
