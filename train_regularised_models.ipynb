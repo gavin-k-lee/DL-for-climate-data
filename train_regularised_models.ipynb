{
 "cells": [
  {
   "cell_type": "markdown",
   "metadata": {},
   "source": [
    "# Regularised models"
   ]
  },
  {
   "cell_type": "markdown",
   "metadata": {},
   "source": [
    "# Two aspects of regularisation:\n",
    "## - TV loss on the reconstruction\n",
    "## - L1 loss on the weights of the bottleneck layer"
   ]
  },
  {
   "cell_type": "code",
   "execution_count": 1,
   "metadata": {},
   "outputs": [],
   "source": [
    "import matplotlib.pyplot as plt\n",
    "import netCDF4\n",
    "import numpy as np\n",
    "import pandas as pd\n",
    "from mpl_toolkits.basemap import Basemap\n",
    "from tqdm import tqdm\n",
    "###################################################\n",
    "import torch\n",
    "from sklearn.decomposition import IncrementalPCA, PCA\n",
    "from sklearn.model_selection import train_test_split\n",
    "###################################################\n",
    "import torch\n",
    "import torchvision as tv\n",
    "import torchvision.transforms as transforms\n",
    "import torch.nn as nn\n",
    "import torch.nn.functional as F\n",
    "from torch.autograd import Variable\n",
    "from torchvision.utils import save_image\n",
    "from torch.utils.data import Dataset, DataLoader\n",
    "from torchsummary import summary\n",
    "###################################################\n",
    "from livelossplot import PlotLosses\n",
    "import hiddenlayer as hl\n",
    "###################################################\n",
    "import pickle\n",
    "import os\n",
    "###################################################\n",
    "import scipy as sp\n",
    "import scipy.fftpack"
   ]
  },
  {
   "cell_type": "code",
   "execution_count": 2,
   "metadata": {},
   "outputs": [],
   "source": [
    "temp_nc = netCDF4.Dataset('../eniko/data/tas/tas_day_MPI-ESM-MR_rcp85_r1i1p1_g025.nc')\n",
    "temp_ncdata_3D = np.array(temp_nc.variables['tas'])\n",
    "temp_ncdata_2D = temp_ncdata_3D.reshape(temp_ncdata_3D.shape[0], temp_ncdata_3D.shape[1]*temp_ncdata_3D.shape[2])        \n",
    "\n",
    "dates = pd.to_datetime(netCDF4.num2date(temp_nc.variables['time'][:], temp_nc.variables['time'].units)).year\n",
    "temp_ncdata_df = pd.DataFrame(temp_ncdata_2D, index = dates)"
   ]
  },
  {
   "cell_type": "code",
   "execution_count": 3,
   "metadata": {},
   "outputs": [
    {
     "data": {
      "text/plain": [
       "(84371, 10368)"
      ]
     },
     "execution_count": 3,
     "metadata": {},
     "output_type": "execute_result"
    }
   ],
   "source": [
    "temp_ncdata_df.shape"
   ]
  },
  {
   "cell_type": "code",
   "execution_count": 4,
   "metadata": {},
   "outputs": [],
   "source": [
    "train_start = 2025\n",
    "train_end = 2100\n",
    "\n",
    "test_start = 1975\n",
    "test_end = 2000\n",
    "\n",
    "max_fts = 10\n",
    "batch_size = 32"
   ]
  },
  {
   "cell_type": "code",
   "execution_count": 5,
   "metadata": {},
   "outputs": [],
   "source": [
    "# PCA type\n",
    "train_idx = temp_ncdata_df.index.isin(range(train_start,train_end+1))\n",
    "train_samples = temp_ncdata_df.iloc[train_idx]\n",
    "train_years = temp_ncdata_df.index[temp_ncdata_df.index.isin(range(train_start,train_end+1))]\n",
    "\n",
    "test_idx = temp_ncdata_df.index.isin(range(test_start,test_end+1))\n",
    "test_samples = temp_ncdata_df.iloc[test_idx]\n",
    "test_years = temp_ncdata_df.index[temp_ncdata_df.index.isin(range(test_start,test_end+1))]\n",
    "\n",
    "# Standardise the training samples\n",
    "train_samples = torch.tensor(train_samples.values)#.double()\n",
    "test_samples = torch.tensor(test_samples.values)#.double()\n",
    "\n",
    "mu, sig = train_samples.mean(), train_samples.std()\n",
    "\n",
    "# train_samples = train_samples.sub(mu).div(sig)\n",
    "# test_samples = test_samples.sub(mu).div(sig)\n",
    "\n",
    "mmin = min(train_samples.min(),test_samples.min())\n",
    "mmax = max(train_samples.max(),test_samples.max())\n",
    "\n",
    "# # Normalise instead\n",
    "train_samples = (train_samples - mmin) / (mmax - mmin)\n",
    "test_samples = (test_samples - mmin) / (mmax - mmin)\n",
    "\n",
    "\n",
    "train_data = DataLoader(train_samples, batch_size=batch_size)\n",
    "test_data = DataLoader(test_samples, batch_size=batch_size)"
   ]
  },
  {
   "cell_type": "code",
   "execution_count": 6,
   "metadata": {},
   "outputs": [],
   "source": [
    "# AE type (reshaped)\n",
    "train_data_ae = DataLoader(train_samples.reshape(-1, 72, 144), batch_size=batch_size)\n",
    "test_data_ae = DataLoader(test_samples.reshape(-1, 72, 144), batch_size=batch_size)"
   ]
  },
  {
   "cell_type": "code",
   "execution_count": 7,
   "metadata": {},
   "outputs": [],
   "source": [
    "dataloaders = {\n",
    "    \"train\": train_data_ae,\n",
    "    \"validation\": test_data_ae\n",
    "}"
   ]
  },
  {
   "cell_type": "code",
   "execution_count": 8,
   "metadata": {},
   "outputs": [],
   "source": [
    "device = torch.device('cuda:0' if torch.cuda.is_available() else 'cpu')"
   ]
  },
  {
   "cell_type": "code",
   "execution_count": 74,
   "metadata": {},
   "outputs": [],
   "source": [
    "class AutoEncoder(nn.Module):\n",
    "    def __init__(self, layers, TV_norm=False, L1_norm=False):\n",
    "        super(AutoEncoder,self).__init__()\n",
    "        assert len(layers) == 5, 'Not the right number of layer numbers'\n",
    "        self.encoder = nn.Sequential(\n",
    "            nn.Conv2d(1, layers[0], kernel_size=(3,5))\n",
    "            ,nn.MaxPool2d(2)\n",
    "            ,nn.ReLU()\n",
    "            \n",
    "            ,nn.Conv2d(layers[0], layers[1], kernel_size=(2,5))\n",
    "            ,nn.MaxPool2d((2,3))\n",
    "            ,nn.ReLU()\n",
    "            \n",
    "            ,nn.Conv2d(layers[1], layers[2], kernel_size=(2,3))\n",
    "            ,nn.MaxPool2d(2)\n",
    "            ,nn.ReLU()\n",
    "            \n",
    "            ,nn.Conv2d(layers[2], layers[3], kernel_size=(3,3))\n",
    "            ,nn.MaxPool2d(2)\n",
    "            ,nn.ReLU()\n",
    "            \n",
    "            ,nn.Conv2d(layers[3], layers[4], kernel_size=(2,3), bias=~L1_norm) # Bias included if L1_norm not needed\n",
    "            ,nn.MaxPool2d(2)\n",
    "        )\n",
    "        \n",
    "        self.decoder = nn.Sequential(\n",
    "            \n",
    "            nn.ConvTranspose2d(layers[4], layers[3], kernel_size=(3,4), stride=(3,4))\n",
    "            ,nn.ReLU()\n",
    "                    \n",
    "            ,nn.ConvTranspose2d(layers[3], layers[2], kernel_size=(3,3), stride=(3,3))\n",
    "            ,nn.ReLU()\n",
    "            \n",
    "            ,nn.ConvTranspose2d(layers[2], layers[1], kernel_size=(2,3), stride=(2,3))\n",
    "            ,nn.ReLU()\n",
    "            \n",
    "#             ,nn.PixelShuffle(2)\n",
    "            \n",
    "            ,nn.ConvTranspose2d(layers[1], layers[0], kernel_size=2, stride=2)\n",
    "            ,nn.ReLU()\n",
    "                       \n",
    "            ,nn.ConvTranspose2d(layers[0], 1, kernel_size=(2,2), stride=(2,2))\n",
    "            ,nn.Sigmoid()\n",
    "        )\n",
    "        \n",
    "    def forward(self, x):\n",
    "        # Encoder part\n",
    "        y = self.encoder(x)\n",
    "        # Decoder part\n",
    "        x = self.decoder(y)\n",
    "        return y, x # x is the output of the autoencoder, y is the output of the encoder"
   ]
  },
  {
   "cell_type": "code",
   "execution_count": 75,
   "metadata": {},
   "outputs": [],
   "source": [
    "def train_model(model, criterion, optimizer, bottleneck, num_epochs=20, TV_norm=False, L1_norm=False):\n",
    "    liveloss = PlotLosses(skip_first=2\n",
    "                          ,max_cols=1\n",
    "                          ,fig_path='data/images/autoencoder/TV_norm_{}_L1_norm_{}_train_test_loss_{}_lambda_tv_{}_lambda_l1_{}.pdf'.format(\\\n",
    "                                                                str(TV_norm)\n",
    "                                                                ,str(L1_norm)\n",
    "                                                                ,bottleneck\n",
    "                                                                ,lambda_tv\n",
    "                                                                ,lambda_l1))\n",
    "    model = model.to(device)\n",
    "    \n",
    "    for epoch in range(num_epochs):\n",
    "        logs = {}\n",
    "        for phase in ['train', 'validation']:\n",
    "            if phase == 'train':\n",
    "                model.train()\n",
    "            else:\n",
    "                model.eval()\n",
    "\n",
    "            running_loss = 0.0\n",
    "\n",
    "            for inputs in dataloaders[phase]:\n",
    "                \n",
    "                inputs = inputs.to(device).unsqueeze(1)\n",
    "                encoded, decoded = model(inputs)\n",
    "                \n",
    "                loss = criterion(inputs, decoded)\n",
    "#                 print('loss is ' + str(loss.detach()))\n",
    "                if TV_norm:\n",
    "                    # Create the TV loss on the decoded image\n",
    "                    # Horizontal direction including over the 'vertical edge'\n",
    "                    tv_loss = torch.mean(torch.abs(torch.cat(\\\n",
    "                                (decoded[:, :, :, :-1] - decoded[:, :, :, 1:]\\\n",
    "                                ,(decoded[:, :, :, -1] - decoded[:, :, :, 0]).unsqueeze(-1)), dim=-1)))\n",
    "                    \n",
    "                    # Vertical direction loss - add 2 * since the aspect ratio of horizontal to vertical is 2:1\n",
    "                    # So to even out the derivatives in each direction, multiply this by 2\n",
    "                    tv_loss += 2 * torch.mean(torch.abs(decoded[:, :, :-1, :] - decoded[:, :, 1:, :]))\n",
    "#                     print('tv loss is ' + str(lambda_tv*tv_loss.detach()))\n",
    "                    loss += lambda_tv * tv_loss\n",
    "                \n",
    "                if L1_norm:\n",
    "                    bn_weights = model.encoder[12].weight.detach()\n",
    "                    # Create the bottleneck loss on the weights of the bottleneck layer (this is the max pool layer?)\n",
    "                    l1_loss = lambda_l1 * torch.norm(bn_weights, 1)\n",
    "                    \n",
    "                    loss += l1_loss\n",
    "                        \n",
    "                if phase == 'train':\n",
    "                    optimizer.zero_grad()\n",
    "                    loss.backward()\n",
    "                    optimizer.step()\n",
    "\n",
    "                running_loss += loss.detach() * inputs.size(0)\n",
    "\n",
    "            epoch_loss = running_loss / len(dataloaders[phase].dataset)\n",
    "            \n",
    "            prefix = ''\n",
    "            if phase == 'validation':\n",
    "                prefix = 'val_'\n",
    "\n",
    "            logs[prefix + 'MSE + reg loss'] = epoch_loss.item()\n",
    "        \n",
    "        liveloss.update(logs)\n",
    "        liveloss.draw()\n",
    "    \n",
    "    return model"
   ]
  },
  {
   "cell_type": "code",
   "execution_count": 76,
   "metadata": {},
   "outputs": [],
   "source": [
    "# This will train the model\n",
    "num_epochs = 3\n",
    "bottleneck= 256\n",
    "\n",
    "# Parameters for regularisation - what should these be??\n",
    "lambda_tv = 0.02\n",
    "lambda_l1 = 1.0\n",
    "\n",
    "TV_norm = True\n",
    "L1_norm = False\n",
    "\n",
    "# Initialise AE\n",
    "model = AutoEncoder([8, 32, 64, 128, 256], TV_norm=TV_norm, L1_norm=L1_norm)\n",
    "optimizer = torch.optim.Adam(model.parameters(),lr=1e-4)\n",
    "criterion = nn.MSELoss()\n",
    "\n",
    "# Start training\n",
    "trained_model = train_model(model, criterion, optimizer, bottleneck, num_epochs, TV_norm, L1_norm)"
   ]
  },
  {
   "cell_type": "code",
   "execution_count": 80,
   "metadata": {},
   "outputs": [],
   "source": [
    "model_name = 'data/models/autoencoder/ae_reg_TV_norm_{}_L1_norm_{}_{}_{}_to_{}_lambda_tv_{}_lambda_l1_{}.pickle'.format(str(TV_norm)\n",
    "                                                                                                ,str(L1_norm)\n",
    "                                                                                                ,bottleneck\n",
    "                                                                                                ,train_start\n",
    "                                                                                                ,train_end\n",
    "                                                                                                ,lambda_tv\n",
    "                                                                                                ,lambda_l1)\n",
    "\n",
    "os.makedirs(os.path.dirname(model_name), exist_ok=True)\n",
    "\n",
    "torch.save(trained_model.state_dict(), model_name)"
   ]
  }
 ],
 "metadata": {
  "kernelspec": {
   "display_name": "Python 3",
   "language": "python",
   "name": "python3"
  },
  "language_info": {
   "codemirror_mode": {
    "name": "ipython",
    "version": 3
   },
   "file_extension": ".py",
   "mimetype": "text/x-python",
   "name": "python",
   "nbconvert_exporter": "python",
   "pygments_lexer": "ipython3",
   "version": "3.7.4"
  }
 },
 "nbformat": 4,
 "nbformat_minor": 2
}
