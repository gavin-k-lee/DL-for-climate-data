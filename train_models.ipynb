{
 "cells": [
  {
   "cell_type": "markdown",
   "metadata": {},
   "source": [
    "# This trains the model according to a set of dates and saves them down"
   ]
  },
  {
   "cell_type": "code",
   "execution_count": 1,
   "metadata": {},
   "outputs": [],
   "source": [
    "import matplotlib.pyplot as plt\n",
    "import netCDF4\n",
    "import numpy as np\n",
    "import pandas as pd\n",
    "from mpl_toolkits.basemap import Basemap\n",
    "from tqdm import tqdm\n",
    "###################################################\n",
    "import torch\n",
    "from sklearn.decomposition import IncrementalPCA, PCA\n",
    "from sklearn.model_selection import train_test_split\n",
    "###################################################\n",
    "import torch\n",
    "import torchvision as tv\n",
    "import torchvision.transforms as transforms\n",
    "import torch.nn as nn\n",
    "import torch.nn.functional as F\n",
    "from torch.autograd import Variable\n",
    "from torchvision.utils import save_image\n",
    "from torch.utils.data import Dataset, DataLoader\n",
    "from torchsummary import summary\n",
    "###################################################\n",
    "from livelossplot import PlotLosses\n",
    "import hiddenlayer as hl\n",
    "###################################################\n",
    "import pickle\n",
    "import os\n",
    "###################################################\n",
    "import scipy as sp\n",
    "import scipy.fftpack"
   ]
  },
  {
   "cell_type": "code",
   "execution_count": 2,
   "metadata": {
    "scrolled": true
   },
   "outputs": [],
   "source": [
    "temp_nc = netCDF4.Dataset('../eniko/data/tas/tas_day_MPI-ESM-MR_rcp85_r1i1p1_g025.nc')\n",
    "temp_ncdata_3D = np.array(temp_nc.variables['tas'])\n",
    "temp_ncdata_2D = temp_ncdata_3D.reshape(temp_ncdata_3D.shape[0], temp_ncdata_3D.shape[1]*temp_ncdata_3D.shape[2])        \n",
    "\n",
    "dates = pd.to_datetime(netCDF4.num2date(temp_nc.variables['time'][:], temp_nc.variables['time'].units)).year\n",
    "temp_ncdata_df = pd.DataFrame(temp_ncdata_2D, index = dates)"
   ]
  },
  {
   "cell_type": "code",
   "execution_count": 38,
   "metadata": {},
   "outputs": [],
   "source": [
    "train_start = 2025\n",
    "train_end = 2100\n",
    "\n",
    "test_start = 1975\n",
    "test_end = 2000\n",
    "\n",
    "max_fts = 10\n",
    "batch_size = 1206"
   ]
  },
  {
   "cell_type": "code",
   "execution_count": 39,
   "metadata": {},
   "outputs": [],
   "source": [
    "# PCA type\n",
    "train_idx = temp_ncdata_df.index.isin(range(train_start,train_end+1))\n",
    "train_samples = temp_ncdata_df.iloc[train_idx]\n",
    "train_years = temp_ncdata_df.index[temp_ncdata_df.index.isin(range(train_start,train_end+1))]\n",
    "\n",
    "test_idx = temp_ncdata_df.index.isin(range(test_start,test_end+1))\n",
    "test_samples = temp_ncdata_df.iloc[test_idx]\n",
    "test_years = temp_ncdata_df.index[temp_ncdata_df.index.isin(range(test_start,test_end+1))]\n",
    "\n",
    "# Standardise the training samples\n",
    "train_samples = torch.tensor(train_samples.values)#.double()\n",
    "test_samples = torch.tensor(test_samples.values)#.double()\n",
    "\n",
    "mu, sig = train_samples.mean(), train_samples.std()\n",
    "\n",
    "# train_samples = train_samples.sub(mu).div(sig)\n",
    "# test_samples = test_samples.sub(mu).div(sig)\n",
    "\n",
    "mmin = min(train_samples.min(),test_samples.min())\n",
    "mmax = max(train_samples.max(),test_samples.max())\n",
    "\n",
    "# # Normalise instead\n",
    "train_samples = (train_samples - mmin) / (mmax - mmin)\n",
    "test_samples = (test_samples - mmin) / (mmax - mmin)\n",
    "\n",
    "\n",
    "train_data = DataLoader(train_samples, batch_size=batch_size)\n",
    "test_data = DataLoader(test_samples, batch_size=batch_size)"
   ]
  },
  {
   "cell_type": "code",
   "execution_count": 5,
   "metadata": {},
   "outputs": [],
   "source": [
    "# AE type (reshaped)\n",
    "train_data_ae = DataLoader(train_samples.reshape(-1, 72, 144), batch_size=batch_size)\n",
    "test_data_ae = DataLoader(test_samples.reshape(-1, 72, 144), batch_size=batch_size)"
   ]
  },
  {
   "cell_type": "code",
   "execution_count": 6,
   "metadata": {},
   "outputs": [],
   "source": [
    "dataloaders = {\n",
    "    \"train\": train_data_ae,\n",
    "    \"validation\": test_data_ae\n",
    "}"
   ]
  },
  {
   "cell_type": "code",
   "execution_count": 7,
   "metadata": {},
   "outputs": [],
   "source": [
    "device = torch.device('cuda:0' if torch.cuda.is_available() else 'cpu')"
   ]
  },
  {
   "cell_type": "markdown",
   "metadata": {},
   "source": [
    "# Train PCA"
   ]
  },
  {
   "cell_type": "code",
   "execution_count": 41,
   "metadata": {},
   "outputs": [],
   "source": [
    "pcs = np.linspace(19, 20, 2)"
   ]
  },
  {
   "cell_type": "code",
   "execution_count": 42,
   "metadata": {},
   "outputs": [
    {
     "data": {
      "text/plain": [
       "array([19., 20.])"
      ]
     },
     "execution_count": 42,
     "metadata": {},
     "output_type": "execute_result"
    }
   ],
   "source": [
    "pcs"
   ]
  },
  {
   "cell_type": "code",
   "execution_count": 43,
   "metadata": {},
   "outputs": [
    {
     "data": {
      "text/plain": [
       "torch.Size([27758, 10368])"
      ]
     },
     "execution_count": 43,
     "metadata": {},
     "output_type": "execute_result"
    }
   ],
   "source": [
    "train_data.dataset.shape"
   ]
  },
  {
   "cell_type": "code",
   "execution_count": 45,
   "metadata": {},
   "outputs": [
    {
     "name": "stderr",
     "output_type": "stream",
     "text": [
      "\n",
      "\n",
      "\n",
      "\n",
      "\n",
      "\n",
      "\n",
      "\n",
      "  0%|          | 0/2 [00:00<?, ?it/s]\u001b[A\u001b[A\u001b[A\u001b[A\u001b[A\u001b[A\u001b[A\u001b[A\n",
      "\n",
      "\n",
      "\n",
      "\n",
      "\n",
      "\n",
      "\n",
      "\n",
      "  0%|          | 0/24 [00:00<?, ?it/s]\u001b[A\u001b[A\u001b[A\u001b[A\u001b[A\u001b[A\u001b[A\u001b[A\u001b[A\n",
      "\n",
      "\n",
      "\n",
      "\n",
      "\n",
      "\n",
      "\n",
      "\n",
      "  4%|▍         | 1/24 [00:01<00:45,  1.96s/it]\u001b[A\u001b[A\u001b[A\u001b[A\u001b[A\u001b[A\u001b[A\u001b[A\u001b[A\n",
      "\n",
      "\n",
      "\n",
      "\n",
      "\n",
      "\n",
      "\n",
      "\n",
      "  8%|▊         | 2/24 [00:03<00:41,  1.88s/it]\u001b[A\u001b[A\u001b[A\u001b[A\u001b[A\u001b[A\u001b[A\u001b[A\u001b[A\n",
      "\n",
      "\n",
      "\n",
      "\n",
      "\n",
      "\n",
      "\n",
      "\n",
      " 12%|█▎        | 3/24 [00:05<00:37,  1.80s/it]\u001b[A\u001b[A\u001b[A\u001b[A\u001b[A\u001b[A\u001b[A\u001b[A\u001b[A\n",
      "\n",
      "\n",
      "\n",
      "\n",
      "\n",
      "\n",
      "\n",
      "\n",
      " 17%|█▋        | 4/24 [00:06<00:34,  1.74s/it]\u001b[A\u001b[A\u001b[A\u001b[A\u001b[A\u001b[A\u001b[A\u001b[A\u001b[A\n",
      "\n",
      "\n",
      "\n",
      "\n",
      "\n",
      "\n",
      "\n",
      "\n",
      " 21%|██        | 5/24 [00:08<00:32,  1.69s/it]\u001b[A\u001b[A\u001b[A\u001b[A\u001b[A\u001b[A\u001b[A\u001b[A\u001b[A\n",
      "\n",
      "\n",
      "\n",
      "\n",
      "\n",
      "\n",
      "\n",
      "\n",
      " 25%|██▌       | 6/24 [00:10<00:31,  1.73s/it]\u001b[A\u001b[A\u001b[A\u001b[A\u001b[A\u001b[A\u001b[A\u001b[A\u001b[A\n",
      "\n",
      "\n",
      "\n",
      "\n",
      "\n",
      "\n",
      "\n",
      "\n",
      " 29%|██▉       | 7/24 [00:11<00:29,  1.72s/it]\u001b[A\u001b[A\u001b[A\u001b[A\u001b[A\u001b[A\u001b[A\u001b[A\u001b[A\n",
      "\n",
      "\n",
      "\n",
      "\n",
      "\n",
      "\n",
      "\n",
      "\n",
      " 33%|███▎      | 8/24 [00:13<00:27,  1.73s/it]\u001b[A\u001b[A\u001b[A\u001b[A\u001b[A\u001b[A\u001b[A\u001b[A\u001b[A\n",
      "\n",
      "\n",
      "\n",
      "\n",
      "\n",
      "\n",
      "\n",
      "\n",
      " 38%|███▊      | 9/24 [00:15<00:25,  1.70s/it]\u001b[A\u001b[A\u001b[A\u001b[A\u001b[A\u001b[A\u001b[A\u001b[A\u001b[A\n",
      "\n",
      "\n",
      "\n",
      "\n",
      "\n",
      "\n",
      "\n",
      "\n",
      " 42%|████▏     | 10/24 [00:17<00:24,  1.76s/it]\u001b[A\u001b[A\u001b[A\u001b[A\u001b[A\u001b[A\u001b[A\u001b[A\u001b[A\n",
      "\n",
      "\n",
      "\n",
      "\n",
      "\n",
      "\n",
      "\n",
      "\n",
      " 46%|████▌     | 11/24 [00:18<00:22,  1.73s/it]\u001b[A\u001b[A\u001b[A\u001b[A\u001b[A\u001b[A\u001b[A\u001b[A\u001b[A\n",
      "\n",
      "\n",
      "\n",
      "\n",
      "\n",
      "\n",
      "\n",
      "\n",
      " 50%|█████     | 12/24 [00:20<00:20,  1.72s/it]\u001b[A\u001b[A\u001b[A\u001b[A\u001b[A\u001b[A\u001b[A\u001b[A\u001b[A\n",
      "\n",
      "\n",
      "\n",
      "\n",
      "\n",
      "\n",
      "\n",
      "\n",
      " 54%|█████▍    | 13/24 [00:22<00:18,  1.71s/it]\u001b[A\u001b[A\u001b[A\u001b[A\u001b[A\u001b[A\u001b[A\u001b[A\u001b[A\n",
      "\n",
      "\n",
      "\n",
      "\n",
      "\n",
      "\n",
      "\n",
      "\n",
      " 58%|█████▊    | 14/24 [00:24<00:17,  1.74s/it]\u001b[A\u001b[A\u001b[A\u001b[A\u001b[A\u001b[A\u001b[A\u001b[A\u001b[A\n",
      "\n",
      "\n",
      "\n",
      "\n",
      "\n",
      "\n",
      "\n",
      "\n",
      " 62%|██████▎   | 15/24 [00:25<00:15,  1.70s/it]\u001b[A\u001b[A\u001b[A\u001b[A\u001b[A\u001b[A\u001b[A\u001b[A\u001b[A\n",
      "\n",
      "\n",
      "\n",
      "\n",
      "\n",
      "\n",
      "\n",
      "\n",
      " 67%|██████▋   | 16/24 [00:27<00:13,  1.70s/it]\u001b[A\u001b[A\u001b[A\u001b[A\u001b[A\u001b[A\u001b[A\u001b[A\u001b[A\n",
      "\n",
      "\n",
      "\n",
      "\n",
      "\n",
      "\n",
      "\n",
      "\n",
      " 71%|███████   | 17/24 [00:29<00:11,  1.67s/it]\u001b[A\u001b[A\u001b[A\u001b[A\u001b[A\u001b[A\u001b[A\u001b[A\u001b[A\n",
      "\n",
      "\n",
      "\n",
      "\n",
      "\n",
      "\n",
      "\n",
      "\n",
      " 75%|███████▌  | 18/24 [00:30<00:09,  1.65s/it]\u001b[A\u001b[A\u001b[A\u001b[A\u001b[A\u001b[A\u001b[A\u001b[A\u001b[A\n",
      "\n",
      "\n",
      "\n",
      "\n",
      "\n",
      "\n",
      "\n",
      "\n",
      " 79%|███████▉  | 19/24 [00:32<00:08,  1.64s/it]\u001b[A\u001b[A\u001b[A\u001b[A\u001b[A\u001b[A\u001b[A\u001b[A\u001b[A\n",
      "\n",
      "\n",
      "\n",
      "\n",
      "\n",
      "\n",
      "\n",
      "\n",
      " 83%|████████▎ | 20/24 [00:33<00:06,  1.63s/it]\u001b[A\u001b[A\u001b[A\u001b[A\u001b[A\u001b[A\u001b[A\u001b[A\u001b[A\n",
      "\n",
      "\n",
      "\n",
      "\n",
      "\n",
      "\n",
      "\n",
      "\n",
      " 88%|████████▊ | 21/24 [00:35<00:05,  1.74s/it]\u001b[A\u001b[A\u001b[A\u001b[A\u001b[A\u001b[A\u001b[A\u001b[A\u001b[A\n",
      "\n",
      "\n",
      "\n",
      "\n",
      "\n",
      "\n",
      "\n",
      "\n",
      " 92%|█████████▏| 22/24 [00:37<00:03,  1.85s/it]\u001b[A\u001b[A\u001b[A\u001b[A\u001b[A\u001b[A\u001b[A\u001b[A\u001b[A\n",
      "\n",
      "\n",
      "\n",
      "\n",
      "\n",
      "\n",
      "\n",
      "\n",
      "100%|██████████| 24/24 [00:39<00:00,  1.65s/it]\u001b[A\u001b[A\u001b[A\u001b[A\u001b[A\u001b[A\u001b[A\u001b[A\u001b[A\n",
      "\n",
      "\n",
      "\n",
      "\n",
      "\n",
      "\n",
      "\n",
      "\n",
      " 50%|█████     | 1/2 [00:39<00:39, 39.67s/it]\u001b[A\u001b[A\u001b[A\u001b[A\u001b[A\u001b[A\u001b[A\u001b[A\n",
      "\n",
      "\n",
      "\n",
      "\n",
      "\n",
      "\n",
      "\n",
      "\n",
      "  0%|          | 0/24 [00:00<?, ?it/s]\u001b[A\u001b[A\u001b[A\u001b[A\u001b[A\u001b[A\u001b[A\u001b[A\u001b[A\n",
      "\n",
      "\n",
      "\n",
      "\n",
      "\n",
      "\n",
      "\n",
      "\n",
      "  4%|▍         | 1/24 [00:01<00:37,  1.62s/it]\u001b[A\u001b[A\u001b[A\u001b[A\u001b[A\u001b[A\u001b[A\u001b[A\u001b[A\n",
      "\n",
      "\n",
      "\n",
      "\n",
      "\n",
      "\n",
      "\n",
      "\n",
      "  8%|▊         | 2/24 [00:03<00:36,  1.67s/it]\u001b[A\u001b[A\u001b[A\u001b[A\u001b[A\u001b[A\u001b[A\u001b[A\u001b[A\n",
      "\n",
      "\n",
      "\n",
      "\n",
      "\n",
      "\n",
      "\n",
      "\n",
      " 12%|█▎        | 3/24 [00:05<00:34,  1.65s/it]\u001b[A\u001b[A\u001b[A\u001b[A\u001b[A\u001b[A\u001b[A\u001b[A\u001b[A\n",
      "\n",
      "\n",
      "\n",
      "\n",
      "\n",
      "\n",
      "\n",
      "\n",
      " 17%|█▋        | 4/24 [00:06<00:33,  1.66s/it]\u001b[A\u001b[A\u001b[A\u001b[A\u001b[A\u001b[A\u001b[A\u001b[A\u001b[A\n",
      "\n",
      "\n",
      "\n",
      "\n",
      "\n",
      "\n",
      "\n",
      "\n",
      " 21%|██        | 5/24 [00:08<00:31,  1.65s/it]\u001b[A\u001b[A\u001b[A\u001b[A\u001b[A\u001b[A\u001b[A\u001b[A\u001b[A\n",
      "\n",
      "\n",
      "\n",
      "\n",
      "\n",
      "\n",
      "\n",
      "\n",
      " 25%|██▌       | 6/24 [00:09<00:29,  1.65s/it]\u001b[A\u001b[A\u001b[A\u001b[A\u001b[A\u001b[A\u001b[A\u001b[A\u001b[A\n",
      "\n",
      "\n",
      "\n",
      "\n",
      "\n",
      "\n",
      "\n",
      "\n",
      " 29%|██▉       | 7/24 [00:11<00:27,  1.65s/it]\u001b[A\u001b[A\u001b[A\u001b[A\u001b[A\u001b[A\u001b[A\u001b[A\u001b[A\n",
      "\n",
      "\n",
      "\n",
      "\n",
      "\n",
      "\n",
      "\n",
      "\n",
      " 33%|███▎      | 8/24 [00:13<00:26,  1.63s/it]\u001b[A\u001b[A\u001b[A\u001b[A\u001b[A\u001b[A\u001b[A\u001b[A\u001b[A\n",
      "\n",
      "\n",
      "\n",
      "\n",
      "\n",
      "\n",
      "\n",
      "\n",
      " 38%|███▊      | 9/24 [00:14<00:24,  1.63s/it]\u001b[A\u001b[A\u001b[A\u001b[A\u001b[A\u001b[A\u001b[A\u001b[A\u001b[A\n",
      "\n",
      "\n",
      "\n",
      "\n",
      "\n",
      "\n",
      "\n",
      "\n",
      " 42%|████▏     | 10/24 [00:16<00:22,  1.64s/it]\u001b[A\u001b[A\u001b[A\u001b[A\u001b[A\u001b[A\u001b[A\u001b[A\u001b[A\n",
      "\n",
      "\n",
      "\n",
      "\n",
      "\n",
      "\n",
      "\n",
      "\n",
      " 46%|████▌     | 11/24 [00:18<00:21,  1.66s/it]\u001b[A\u001b[A\u001b[A\u001b[A\u001b[A\u001b[A\u001b[A\u001b[A\u001b[A\n",
      "\n",
      "\n",
      "\n",
      "\n",
      "\n",
      "\n",
      "\n",
      "\n",
      " 50%|█████     | 12/24 [00:20<00:20,  1.71s/it]\u001b[A\u001b[A\u001b[A\u001b[A\u001b[A\u001b[A\u001b[A\u001b[A\u001b[A\n",
      "\n",
      "\n",
      "\n",
      "\n",
      "\n",
      "\n",
      "\n",
      "\n",
      " 54%|█████▍    | 13/24 [00:21<00:19,  1.76s/it]\u001b[A\u001b[A\u001b[A\u001b[A\u001b[A\u001b[A\u001b[A\u001b[A\u001b[A\n",
      "\n",
      "\n",
      "\n",
      "\n",
      "\n",
      "\n",
      "\n",
      "\n",
      " 58%|█████▊    | 14/24 [00:23<00:17,  1.71s/it]\u001b[A\u001b[A\u001b[A\u001b[A\u001b[A\u001b[A\u001b[A\u001b[A\u001b[A\n",
      "\n",
      "\n",
      "\n",
      "\n",
      "\n",
      "\n",
      "\n",
      "\n",
      " 62%|██████▎   | 15/24 [00:25<00:15,  1.69s/it]\u001b[A\u001b[A\u001b[A\u001b[A\u001b[A\u001b[A\u001b[A\u001b[A\u001b[A\n",
      "\n",
      "\n",
      "\n",
      "\n",
      "\n",
      "\n",
      "\n",
      "\n",
      " 67%|██████▋   | 16/24 [00:26<00:13,  1.68s/it]\u001b[A\u001b[A\u001b[A\u001b[A\u001b[A\u001b[A\u001b[A\u001b[A\u001b[A\n",
      "\n",
      "\n",
      "\n",
      "\n",
      "\n",
      "\n",
      "\n",
      "\n",
      " 71%|███████   | 17/24 [00:28<00:12,  1.72s/it]\u001b[A\u001b[A\u001b[A\u001b[A\u001b[A\u001b[A\u001b[A\u001b[A\u001b[A\n",
      "\n",
      "\n",
      "\n",
      "\n",
      "\n",
      "\n",
      "\n",
      "\n",
      " 75%|███████▌  | 18/24 [00:30<00:10,  1.71s/it]\u001b[A\u001b[A\u001b[A\u001b[A\u001b[A\u001b[A\u001b[A\u001b[A\u001b[A\n",
      "\n",
      "\n",
      "\n",
      "\n",
      "\n",
      "\n",
      "\n",
      "\n",
      " 79%|███████▉  | 19/24 [00:32<00:08,  1.71s/it]\u001b[A\u001b[A\u001b[A\u001b[A\u001b[A\u001b[A\u001b[A\u001b[A\u001b[A\n",
      "\n",
      "\n",
      "\n",
      "\n",
      "\n",
      "\n",
      "\n",
      "\n",
      " 83%|████████▎ | 20/24 [00:33<00:06,  1.69s/it]\u001b[A\u001b[A\u001b[A\u001b[A\u001b[A\u001b[A\u001b[A\u001b[A\u001b[A\n",
      "\n",
      "\n",
      "\n",
      "\n",
      "\n",
      "\n",
      "\n",
      "\n",
      " 88%|████████▊ | 21/24 [00:35<00:05,  1.67s/it]\u001b[A\u001b[A\u001b[A\u001b[A\u001b[A\u001b[A\u001b[A\u001b[A\u001b[A\n",
      "\n",
      "\n",
      "\n",
      "\n",
      "\n",
      "\n",
      "\n",
      "\n",
      " 92%|█████████▏| 22/24 [00:36<00:03,  1.67s/it]\u001b[A\u001b[A\u001b[A\u001b[A\u001b[A\u001b[A\u001b[A\u001b[A\u001b[A\n",
      "\n",
      "\n",
      "\n",
      "\n",
      "\n",
      "\n",
      "\n",
      "\n",
      "100%|██████████| 24/24 [00:38<00:00,  1.61s/it]\u001b[A\u001b[A\u001b[A\u001b[A\u001b[A\u001b[A\u001b[A\u001b[A\u001b[A\n",
      "\n",
      "\n",
      "\n",
      "\n",
      "\n",
      "\n",
      "\n",
      "\n",
      "100%|██████████| 2/2 [01:18<00:00, 39.15s/it]\u001b[A\u001b[A\u001b[A\u001b[A\u001b[A\u001b[A\u001b[A\u001b[A\n"
     ]
    }
   ],
   "source": [
    "# Train the PCA and save it\n",
    "# max_fts = 512\n",
    "# i=max_fts\n",
    "for i in tqdm(pcs):\n",
    "    # Intialise IncrementalPCA\n",
    "    iPCA = IncrementalPCA(n_components=int(i))\n",
    "\n",
    "    # Loop over the training batch\n",
    "    for train_dat in tqdm(train_data):\n",
    "        iPCA.partial_fit(train_dat)\n",
    "\n",
    "    model_name = 'data/models/pca/pca_{}_{}_to_{}.pickle'.format(int(i), train_start, train_end)\n",
    "    os.makedirs(os.path.dirname(model_name), exist_ok=True)\n",
    "\n",
    "    with open(model_name, 'wb') as f:\n",
    "        pickle.dump(iPCA, f)"
   ]
  },
  {
   "cell_type": "code",
   "execution_count": 8,
   "metadata": {},
   "outputs": [],
   "source": [
    "with open('data/models/pca/pca_5_2025_to_2100.pickle', 'rb') as file:\n",
    "    pca_model = pickle.load(file)"
   ]
  },
  {
   "cell_type": "code",
   "execution_count": 9,
   "metadata": {},
   "outputs": [
    {
     "data": {
      "text/plain": [
       "IncrementalPCA(batch_size=None, copy=True, n_components=5, whiten=False)"
      ]
     },
     "execution_count": 9,
     "metadata": {},
     "output_type": "execute_result"
    }
   ],
   "source": [
    "pca_model"
   ]
  },
  {
   "cell_type": "code",
   "execution_count": 57,
   "metadata": {},
   "outputs": [],
   "source": [
    "recon_img = np.empty(shape=(0,72*144))"
   ]
  },
  {
   "cell_type": "code",
   "execution_count": 58,
   "metadata": {},
   "outputs": [],
   "source": [
    "for test_dat in test_data:\n",
    "    transformed_img = pca_model.transform(test_dat)\n",
    "    inv = pca_model.inverse_transform(transformed_img)\n",
    "    recon_img = np.append(recon_img, inv, axis=0)"
   ]
  },
  {
   "cell_type": "markdown",
   "metadata": {},
   "source": [
    "# Train autoencoder"
   ]
  },
  {
   "cell_type": "code",
   "execution_count": 8,
   "metadata": {},
   "outputs": [],
   "source": [
    "class AutoEncoder(nn.Module):\n",
    "    def __init__(self, layers):\n",
    "        super(AutoEncoder,self).__init__()\n",
    "        assert len(layers) == 5, 'Not the right number of layer numbers'\n",
    "        self.encoder = nn.Sequential(\n",
    "            nn.Conv2d(1, layers[0], kernel_size=(3,5))\n",
    "            ,nn.MaxPool2d(2)\n",
    "            ,nn.ReLU()\n",
    "            \n",
    "            ,nn.Conv2d(layers[0], layers[1], kernel_size=(2,5))\n",
    "            ,nn.MaxPool2d((2,3))\n",
    "            ,nn.ReLU()\n",
    "            \n",
    "            ,nn.Conv2d(layers[1], layers[2], kernel_size=(2,3))\n",
    "            ,nn.MaxPool2d(2)\n",
    "            ,nn.ReLU()\n",
    "            \n",
    "            ,nn.Conv2d(layers[2], layers[3], kernel_size=(3,3))\n",
    "            ,nn.MaxPool2d(2)\n",
    "            ,nn.ReLU()\n",
    "            \n",
    "            ,nn.Conv2d(layers[3], layers[4], kernel_size=(2,3))\n",
    "            ,nn.MaxPool2d(2)\n",
    "        )\n",
    "        \n",
    "        self.decoder = nn.Sequential(\n",
    "            \n",
    "            nn.ConvTranspose2d(layers[4], layers[3], kernel_size=(3,4), stride=(3,4))\n",
    "            ,nn.ReLU()\n",
    "                    \n",
    "            ,nn.ConvTranspose2d(layers[3], layers[2], kernel_size=(3,3), stride=(3,3))\n",
    "            ,nn.ReLU()\n",
    "            \n",
    "            ,nn.ConvTranspose2d(layers[2], layers[1], kernel_size=(2,3), stride=(2,3))\n",
    "            ,nn.ReLU()\n",
    "            \n",
    "#             ,nn.PixelShuffle(2)\n",
    "            \n",
    "            ,nn.ConvTranspose2d(layers[1], layers[0], kernel_size=2, stride=2)\n",
    "            ,nn.ReLU()\n",
    "                       \n",
    "            ,nn.ConvTranspose2d(layers[0], 1, kernel_size=(2,2), stride=(2,2))\n",
    "            ,nn.Sigmoid()\n",
    "        )\n",
    "        \n",
    "    def forward(self, x):\n",
    "        # Encoder part\n",
    "        y = self.encoder(x)\n",
    "        # Decoder part\n",
    "        x = self.decoder(y)\n",
    "        return y, x # x is the output of the autoencoder, y is the output of the encoder"
   ]
  },
  {
   "cell_type": "code",
   "execution_count": 24,
   "metadata": {},
   "outputs": [],
   "source": [
    "x = torch.tensor(np.random.random((1, 1, 72, 144))).float()"
   ]
  },
  {
   "cell_type": "code",
   "execution_count": 4,
   "metadata": {},
   "outputs": [
    {
     "name": "stdout",
     "output_type": "stream",
     "text": [
      "----------------------------------------------------------------\n",
      "        Layer (type)               Output Shape         Param #\n",
      "================================================================\n",
      "            Conv2d-1           [-1, 4, 70, 140]              64\n",
      "         MaxPool2d-2            [-1, 4, 35, 70]               0\n",
      "              ReLU-3            [-1, 4, 35, 70]               0\n",
      "            Conv2d-4            [-1, 8, 34, 66]             328\n",
      "         MaxPool2d-5            [-1, 8, 17, 22]               0\n",
      "              ReLU-6            [-1, 8, 17, 22]               0\n",
      "            Conv2d-7           [-1, 16, 16, 20]             784\n",
      "         MaxPool2d-8            [-1, 16, 8, 10]               0\n",
      "              ReLU-9            [-1, 16, 8, 10]               0\n",
      "           Conv2d-10             [-1, 32, 6, 8]           4,640\n",
      "        MaxPool2d-11             [-1, 32, 3, 4]               0\n",
      "             ReLU-12             [-1, 32, 3, 4]               0\n",
      "           Conv2d-13             [-1, 64, 2, 2]          12,352\n",
      "        MaxPool2d-14             [-1, 64, 1, 1]               0\n",
      "  ConvTranspose2d-15             [-1, 32, 3, 4]          24,608\n",
      "             ReLU-16             [-1, 32, 3, 4]               0\n",
      "  ConvTranspose2d-17            [-1, 16, 9, 12]           4,624\n",
      "             ReLU-18            [-1, 16, 9, 12]               0\n",
      "  ConvTranspose2d-19            [-1, 8, 18, 36]             776\n",
      "             ReLU-20            [-1, 8, 18, 36]               0\n",
      "  ConvTranspose2d-21            [-1, 4, 36, 72]             132\n",
      "             ReLU-22            [-1, 4, 36, 72]               0\n",
      "  ConvTranspose2d-23           [-1, 1, 72, 144]              17\n",
      "          Sigmoid-24           [-1, 1, 72, 144]               0\n",
      "================================================================\n",
      "Total params: 48,325\n",
      "Trainable params: 48,325\n",
      "Non-trainable params: 0\n",
      "----------------------------------------------------------------\n",
      "Input size (MB): 0.04\n",
      "Forward/backward pass size (MB): 1.14\n",
      "Params size (MB): 0.18\n",
      "Estimated Total Size (MB): 1.36\n",
      "----------------------------------------------------------------\n"
     ]
    }
   ],
   "source": [
    "model = AutoEncoder(layers=[4,8,16,32,64])\n",
    "summary(model, (1, 72, 144))"
   ]
  },
  {
   "cell_type": "code",
   "execution_count": 36,
   "metadata": {},
   "outputs": [],
   "source": [
    "def train_model(model, criterion, optimizer, bottleneck, num_epochs=20):\n",
    "    liveloss = PlotLosses(skip_first=2\n",
    "                          ,max_cols=1\n",
    "                          ,fig_path='data/images/autoencoder/train_test_loss_{}_over_{}_epochs.pdf'.format(bottleneck, num_epochs))\n",
    "    model = model.to(device)\n",
    "    \n",
    "    for epoch in range(num_epochs):\n",
    "        logs = {}\n",
    "        for phase in ['train', 'validation']:\n",
    "            if phase == 'train':\n",
    "                model.train()\n",
    "            else:\n",
    "                model.eval()\n",
    "\n",
    "            running_loss = 0.0\n",
    "\n",
    "            for inputs in dataloaders[phase]:\n",
    "                \n",
    "                inputs = inputs.to(device).unsqueeze(1)\n",
    "                _, outputs = model(inputs)\n",
    "                \n",
    "                loss = criterion(inputs, outputs)\n",
    "\n",
    "                if phase == 'train':\n",
    "                    optimizer.zero_grad()\n",
    "                    loss.backward()\n",
    "                    optimizer.step()\n",
    "\n",
    "                running_loss += loss.detach() * inputs.size(0)\n",
    "\n",
    "            epoch_loss = running_loss / len(dataloaders[phase].dataset)\n",
    "            \n",
    "            prefix = ''\n",
    "            if phase == 'validation':\n",
    "                prefix = 'val_'\n",
    "\n",
    "            logs[prefix + 'MSE loss'] = epoch_loss.item()\n",
    "        \n",
    "        liveloss.update(logs)\n",
    "        liveloss.draw()\n",
    "    \n",
    "    return model"
   ]
  },
  {
   "cell_type": "code",
   "execution_count": 13,
   "metadata": {
    "scrolled": true
   },
   "outputs": [
    {
     "data": {
      "image/png": "[encoded data removed]",
      "text/plain": [
       "<Figure size 432x864 with 1 Axes>"
      ]
     },
     "metadata": {
      "needs_background": "light"
     },
     "output_type": "display_data"
    },
    {
     "name": "stdout",
     "output_type": "stream",
     "text": [
      "MSE loss:\n",
      "training   (min:    0.002, max:    0.041, cur:    0.002)\n",
      "validation (min:    0.004, max:    0.013, cur:    0.004)\n"
     ]
    }
   ],
   "source": [
    "# This will train the model\n",
    "num_epochs = 20\n",
    "bottleneck= 64\n",
    "\n",
    "# Initialise AE\n",
    "model = AutoEncoder()\n",
    "optimizer = torch.optim.Adam(model.parameters(),lr=1e-4)\n",
    "criterion = nn.MSELoss()\n",
    "\n",
    "# Start training\n",
    "trained_model = train_model(model, criterion, optimizer, bottleneck, num_epochs)"
   ]
  },
  {
   "cell_type": "code",
   "execution_count": 14,
   "metadata": {},
   "outputs": [],
   "source": [
    "model_name = 'data/models/autoencoder/ae_{}_{}_to_{}_{}_epochs.pickle'.format(bottleneck, train_start, train_end, num_epochs)\n",
    "os.makedirs(os.path.dirname(model_name), exist_ok=True)\n",
    "\n",
    "torch.save(trained_model.state_dict(), model_name)"
   ]
  },
  {
   "cell_type": "markdown",
   "metadata": {},
   "source": [
    "# Run PCA on autoencoder"
   ]
  },
  {
   "cell_type": "code",
   "execution_count": 10,
   "metadata": {},
   "outputs": [],
   "source": [
    "bottleneck=64"
   ]
  },
  {
   "cell_type": "code",
   "execution_count": 11,
   "metadata": {
    "scrolled": true
   },
   "outputs": [],
   "source": [
    "ae_model = 'data/models/autoencoder/ae_reg_{}_2025_to_2100_20_epochs.pickle'.format(bottleneck)"
   ]
  },
  {
   "cell_type": "code",
   "execution_count": 12,
   "metadata": {},
   "outputs": [
    {
     "data": {
      "text/plain": [
       "AutoEncoder(\n",
       "  (encoder): Sequential(\n",
       "    (0): Conv2d(1, 4, kernel_size=(3, 5), stride=(1, 1))\n",
       "    (1): MaxPool2d(kernel_size=2, stride=2, padding=0, dilation=1, ceil_mode=False)\n",
       "    (2): ReLU()\n",
       "    (3): Conv2d(4, 8, kernel_size=(2, 5), stride=(1, 1))\n",
       "    (4): MaxPool2d(kernel_size=(2, 3), stride=(2, 3), padding=0, dilation=1, ceil_mode=False)\n",
       "    (5): ReLU()\n",
       "    (6): Conv2d(8, 16, kernel_size=(2, 3), stride=(1, 1))\n",
       "    (7): MaxPool2d(kernel_size=2, stride=2, padding=0, dilation=1, ceil_mode=False)\n",
       "    (8): ReLU()\n",
       "    (9): Conv2d(16, 32, kernel_size=(3, 3), stride=(1, 1))\n",
       "    (10): MaxPool2d(kernel_size=2, stride=2, padding=0, dilation=1, ceil_mode=False)\n",
       "    (11): ReLU()\n",
       "    (12): Conv2d(32, 64, kernel_size=(2, 3), stride=(1, 1))\n",
       "    (13): MaxPool2d(kernel_size=2, stride=2, padding=0, dilation=1, ceil_mode=False)\n",
       "  )\n",
       "  (decoder): Sequential(\n",
       "    (0): ConvTranspose2d(64, 32, kernel_size=(3, 4), stride=(3, 4))\n",
       "    (1): ReLU()\n",
       "    (2): ConvTranspose2d(32, 16, kernel_size=(3, 3), stride=(3, 3))\n",
       "    (3): ReLU()\n",
       "    (4): ConvTranspose2d(16, 8, kernel_size=(2, 3), stride=(2, 3))\n",
       "    (5): ReLU()\n",
       "    (6): ConvTranspose2d(8, 4, kernel_size=(2, 2), stride=(2, 2))\n",
       "    (7): ReLU()\n",
       "    (8): ConvTranspose2d(4, 1, kernel_size=(2, 2), stride=(2, 2))\n",
       "    (9): Sigmoid()\n",
       "  )\n",
       ")"
      ]
     },
     "execution_count": 12,
     "metadata": {},
     "output_type": "execute_result"
    }
   ],
   "source": [
    "model = AutoEncoder(layers=[4,8,16,32,64])\n",
    "\n",
    "model.load_state_dict(torch.load(ae_model))\n",
    "model.eval()"
   ]
  },
  {
   "cell_type": "code",
   "execution_count": 13,
   "metadata": {},
   "outputs": [
    {
     "data": {
      "text/plain": [
       "torch.Size([9497, 72, 144])"
      ]
     },
     "execution_count": 13,
     "metadata": {},
     "output_type": "execute_result"
    }
   ],
   "source": [
    "test_data_ae.dataset.shape"
   ]
  },
  {
   "cell_type": "code",
   "execution_count": 14,
   "metadata": {
    "scrolled": true
   },
   "outputs": [
    {
     "name": "stderr",
     "output_type": "stream",
     "text": [
      "100%|██████████| 95/95 [00:04<00:00, 20.73it/s]\n"
     ]
    }
   ],
   "source": [
    "max_pcs = 64\n",
    "iPCA = IncrementalPCA(n_components=max_pcs)\n",
    "\n",
    "# Recompute the batch size to make it easier for the IPCA\n",
    "test_data_ae = DataLoader(test_samples.reshape(-1, 72, 144), batch_size=100)\n",
    "\n",
    "ae_ts = np.empty(shape=(0,bottleneck))\n",
    "pca_from_ae_ts = np.empty(shape=(0,max_pcs))\n",
    "\n",
    "for test_dat in tqdm(test_data_ae):      \n",
    "    encoded, _ = model(test_dat.unsqueeze(1))\n",
    "    iPCA.partial_fit(encoded.detach().numpy().reshape(-1,bottleneck))\n",
    "    \n",
    "#     transformed_img = iPCA.transform(encoded.detach().numpy().reshape(-1,bottleneck))\n",
    "\n",
    "#     ae_ts = np.append(ae_ts, encoded.detach().numpy().reshape(-1,bottleneck), axis=0)\n",
    "#     pca_from_ae_ts = np.append(pca_from_ae_ts, transformed_img, axis=0)\n",
    "    "
   ]
  },
  {
   "cell_type": "code",
   "execution_count": 15,
   "metadata": {},
   "outputs": [],
   "source": [
    "model_name = 'data/models/autoencoder/pca_on_ae_reg_{}_{}_to_{}.pickle'.format(bottleneck, train_start, train_end)\n",
    "os.makedirs(os.path.dirname(model_name), exist_ok=True)\n",
    "\n",
    "with open(model_name, 'wb') as f:\n",
    "    pickle.dump(iPCA, f)"
   ]
  },
  {
   "cell_type": "markdown",
   "metadata": {},
   "source": [
    "# Annual data models"
   ]
  },
  {
   "cell_type": "code",
   "execution_count": 4,
   "metadata": {},
   "outputs": [],
   "source": [
    "temp_nc = netCDF4.Dataset('../eniko/data/tas/tas_ann_MPI-ESM-MR_rcp85_r1i1p1_g025.nc')\n",
    "temp_ncdata_3D = np.array(temp_nc.variables['tas'])\n",
    "temp_ncdata_2D = temp_ncdata_3D.reshape(temp_ncdata_3D.shape[0], temp_ncdata_3D.shape[1]*temp_ncdata_3D.shape[2])        \n",
    "\n",
    "# dates = pd.to_datetime(netCDF4.num2date(temp_nc.variables['time'][:], temp_nc.variables['time'].units)).year\n",
    "# temp_ncdata_df = pd.DataFrame(temp_ncdata_2D, index = dates)"
   ]
  },
  {
   "cell_type": "code",
   "execution_count": null,
   "metadata": {},
   "outputs": [],
   "source": [
    "# 231 years from 1870 to 2100"
   ]
  },
  {
   "cell_type": "code",
   "execution_count": 12,
   "metadata": {},
   "outputs": [
    {
     "data": {
      "text/plain": [
       "0.25"
      ]
     },
     "execution_count": 12,
     "metadata": {},
     "output_type": "execute_result"
    }
   ],
   "source": [
    "40/(160)"
   ]
  },
  {
   "cell_type": "code",
   "execution_count": 112,
   "metadata": {},
   "outputs": [],
   "source": [
    "train_start = 1870\n",
    "train_end = 1989\n",
    "\n",
    "test_start = 2081\n",
    "test_end = 2100\n",
    "\n",
    "max_fts = 10\n",
    "batch_size = 32"
   ]
  },
  {
   "cell_type": "code",
   "execution_count": 113,
   "metadata": {},
   "outputs": [],
   "source": [
    "# PCA type\n",
    "train_samples = temp_ncdata_2D[0:120]\n",
    "\n",
    "test_samples = temp_ncdata_2D[-20-1:-1]\n",
    "\n",
    "# Standardise the training samples\n",
    "train_samples = torch.tensor(train_samples)#.double()\n",
    "test_samples = torch.tensor(test_samples)#.double()\n",
    "\n",
    "mu, sig = train_samples.mean(), train_samples.std()\n",
    "\n",
    "# train_samples = train_samples.sub(mu).div(sig)\n",
    "# test_samples = test_samples.sub(mu).div(sig)\n",
    "\n",
    "mmin = min(train_samples.min(),test_samples.min())\n",
    "mmax = max(train_samples.max(),test_samples.max())\n",
    "\n",
    "# # Normalise instead\n",
    "train_samples = (train_samples - mmin) / (mmax - mmin)\n",
    "test_samples = (test_samples - mmin) / (mmax - mmin)\n",
    "\n",
    "\n",
    "train_data = DataLoader(train_samples, batch_size=batch_size)\n",
    "test_data = DataLoader(test_samples, batch_size=batch_size)"
   ]
  },
  {
   "cell_type": "code",
   "execution_count": 114,
   "metadata": {},
   "outputs": [
    {
     "data": {
      "text/plain": [
       "(torch.Size([120, 10368]), torch.Size([20, 10368]))"
      ]
     },
     "execution_count": 114,
     "metadata": {},
     "output_type": "execute_result"
    }
   ],
   "source": [
    "train_samples.shape, test_samples.shape"
   ]
  },
  {
   "cell_type": "code",
   "execution_count": 115,
   "metadata": {},
   "outputs": [
    {
     "data": {
      "text/plain": [
       "PCA(copy=True, iterated_power='auto', n_components=120, random_state=None,\n",
       "  svd_solver='auto', tol=0.0, whiten=False)"
      ]
     },
     "execution_count": 115,
     "metadata": {},
     "output_type": "execute_result"
    }
   ],
   "source": [
    "# Train the PCA and save it\n",
    "max_fts = 120\n",
    "i=max_fts\n",
    "# for i in tqdm(range(1,max_fts+1)):\n",
    "    # Intialise IncrementalPCA\n",
    "_PCA = PCA(n_components=i)\n",
    "\n",
    "_PCA.fit(train_samples)\n",
    "\n",
    "# model_name = 'data/models/pca/pca_annual_{}_{}_to_{}.pickle'.format(i, train_start, train_end)\n",
    "# os.makedirs(os.path.dirname(model_name), exist_ok=True)\n",
    "\n",
    "# with open(model_name, 'wb') as f:\n",
    "#     pickle.dump(_PCA, f)"
   ]
  },
  {
   "cell_type": "code",
   "execution_count": 116,
   "metadata": {},
   "outputs": [],
   "source": [
    "model_name = 'data/models/pca/pca_annual_{}_{}_to_{}.pickle'.format(i, train_start, train_end)\n",
    "os.makedirs(os.path.dirname(model_name), exist_ok=True)\n",
    "\n",
    "with open(model_name, 'wb') as f:\n",
    "    pickle.dump(_PCA, f)"
   ]
  },
  {
   "cell_type": "code",
   "execution_count": 117,
   "metadata": {
    "scrolled": true
   },
   "outputs": [
    {
     "data": {
      "text/plain": [
       "[<matplotlib.lines.Line2D at 0x7f697ece0e90>]"
      ]
     },
     "execution_count": 117,
     "metadata": {},
     "output_type": "execute_result"
    },
    {
     "data": {
      "image/png": "[encoded data removed]",
      "text/plain": [
       "<Figure size 432x288 with 1 Axes>"
      ]
     },
     "metadata": {
      "needs_background": "light"
     },
     "output_type": "display_data"
    }
   ],
   "source": [
    "plt.plot(range(1,120+1),np.cumsum(_PCA.explained_variance_ratio_)*100)"
   ]
  },
  {
   "cell_type": "code",
   "execution_count": 118,
   "metadata": {},
   "outputs": [],
   "source": [
    "def train_model(model, criterion, optimizer, bottleneck, num_epochs=20, data_type='annual'):\n",
    "    liveloss = PlotLosses(skip_first=2\n",
    "                          ,max_cols=1\n",
    "                          ,fig_path='data/images/autoencoder/train_test_loss_{}_{}_over_{}_epochs.pdf'.format(data_type, bottleneck, num_epochs))\n",
    "    model = model.to(device)\n",
    "    \n",
    "    for epoch in range(num_epochs):\n",
    "        logs = {}\n",
    "        for phase in ['train', 'validation']:\n",
    "            if phase == 'train':\n",
    "                model.train()\n",
    "            else:\n",
    "                model.eval()\n",
    "\n",
    "            running_loss = 0.0\n",
    "\n",
    "            for inputs in dataloaders[phase]:\n",
    "                \n",
    "                inputs = inputs.to(device).unsqueeze(1)\n",
    "                _, outputs = model(inputs)\n",
    "                \n",
    "                loss = criterion(inputs, outputs)\n",
    "\n",
    "                if phase == 'train':\n",
    "                    optimizer.zero_grad()\n",
    "                    loss.backward()\n",
    "                    optimizer.step()\n",
    "\n",
    "                running_loss += loss.detach() * inputs.size(0)\n",
    "\n",
    "            epoch_loss = running_loss / len(dataloaders[phase].dataset)\n",
    "            \n",
    "            prefix = ''\n",
    "            if phase == 'validation':\n",
    "                prefix = 'val_'\n",
    "\n",
    "            logs[prefix + 'MSE loss'] = epoch_loss.item()\n",
    "        \n",
    "        liveloss.update(logs)\n",
    "        liveloss.draw()\n",
    "    \n",
    "    return model"
   ]
  },
  {
   "cell_type": "code",
   "execution_count": 120,
   "metadata": {},
   "outputs": [
    {
     "data": {
      "image/png": "[encoded data removed]",
      "text/plain": [
       "<Figure size 432x864 with 1 Axes>"
      ]
     },
     "metadata": {
      "needs_background": "light"
     },
     "output_type": "display_data"
    },
    {
     "name": "stdout",
     "output_type": "stream",
     "text": [
      "MSE loss:\n",
      "training   (min:    0.098, max:    0.099, cur:    0.098)\n",
      "validation (min:    0.087, max:    0.088, cur:    0.087)\n"
     ]
    }
   ],
   "source": [
    "# This will train the model\n",
    "num_epochs = 20\n",
    "bottleneck= 64\n",
    "\n",
    "# Initialise AE\n",
    "model = AutoEncoder(layers=[4,8,16,32,64])\n",
    "optimizer = torch.optim.Adam(model.parameters(),lr=1e-4)\n",
    "criterion = nn.MSELoss()\n",
    "\n",
    "# Start training\n",
    "trained_model = train_model(model, criterion, optimizer, bottleneck, num_epochs)"
   ]
  },
  {
   "cell_type": "code",
   "execution_count": 121,
   "metadata": {},
   "outputs": [],
   "source": [
    "model_name = 'data/models/autoencoder/ae_annual_{}_{}_to_{}_{}_epochs.pickle'.format(bottleneck, train_start, train_end, num_epochs)\n",
    "os.makedirs(os.path.dirname(model_name), exist_ok=True)\n",
    "\n",
    "torch.save(trained_model.state_dict(), model_name)"
   ]
  },
  {
   "cell_type": "markdown",
   "metadata": {},
   "source": [
    "# Visualise the annual models"
   ]
  },
  {
   "cell_type": "code",
   "execution_count": 122,
   "metadata": {},
   "outputs": [],
   "source": [
    "def time_freq_pair(datelist, series, series_type, components, test_start, test_end, bottleneck):\n",
    "    fig, ax = plt.subplots(16,4, figsize=(20,30))\n",
    "    \n",
    "    for i in range(16):\n",
    "    \n",
    "        ax[i, 0].plot(datelist, series[:,i], color=\"black\")\n",
    "        if i == 15:\n",
    "            ax[i, 0].tick_params(axis=\"x\", labelsize=10, rotation=45)    \n",
    "        if i != 15:    \n",
    "            ax[i, 0].set_xticks([])\n",
    "#         ax[i, 0].set_yticks([])\n",
    "        ax[i, 0].yaxis.tick_left()\n",
    "        ax[i, 0].grid('off')\n",
    "        ax[i, 0].set_ylabel('c {}'.format(components[i], fontsize=16, color='r'))\n",
    "\n",
    "        signal_fft = sp.fftpack.fft(series[:,i])\n",
    "        power_spectrum = np.abs(signal_fft) ** 2\n",
    "        fftfreq = sp.fftpack.fftfreq(len(power_spectrum), 1. / 1.)# 365) # The frequencies will come out as YEARLY if we do this\n",
    "        j = fftfreq > 0 # Only get the real ones\n",
    "        ax[i, 1].loglog(fftfreq[j], power_spectrum[j], color=\"black\")\n",
    "        ax[i, 1].set_xlim(0.1, 370)\n",
    "        if i == 15:\n",
    "            ax[i, 1].set_xlabel('Frequency (1 / year)', fontsize=10)\n",
    "            ax[i, 1].tick_params(axis=\"x\", labelsize=10, rotation=0) \n",
    "        if i != 15:\n",
    "            ax[i, 1].set_xticks([])\n",
    "        ax[i, 1].yaxis.tick_right()\n",
    "        ax[i, 1].set_ylim(0.01, 1e9)\n",
    "        ax[i, 1].axvline(x=1, linewidth=1, color='green')\n",
    "        ax[i, 1].axvline(x=2, linewidth=1, color='green')\n",
    "        ax[i, 1].axvline(x=3, linewidth=1, color='green')\n",
    "        ax[i, 1].axvline(x=4, linewidth=1, color='red')\n",
    "        ax[i, 1].axvline(x=12, linewidth=1, color='red')\n",
    "                            \n",
    "        ax[i, 2].plot(datelist, series[:,i+16], color=\"black\")\n",
    "        if i == 15:\n",
    "            ax[i, 2].tick_params(axis=\"x\", labelsize=10, rotation=45)    \n",
    "        if i != 15:    \n",
    "            ax[i, 2].set_xticks([])\n",
    "#         ax[i, 2].set_yticks([])\n",
    "        ax[i, 2].yaxis.tick_left()\n",
    "        ax[i, 2].grid('off')\n",
    "        ax[i, 2].set_ylabel('c {}'.format(components[i+16], fontsize=16, color='r'))\n",
    "\n",
    "        signal_fft = sp.fftpack.fft(series[:,i+16])\n",
    "        power_spectrum = np.abs(signal_fft) ** 2\n",
    "        fftfreq = sp.fftpack.fftfreq(len(power_spectrum), 1. / 1.)#365) # The frequencies will come out as YEARLY if we do this\n",
    "        j = fftfreq > 0 # Only get the real ones\n",
    "        ax[i, 3].loglog(fftfreq[j], power_spectrum[j], color=\"black\")\n",
    "        ax[i, 3].set_xlim(0.1, 370)\n",
    "        if i == 15:\n",
    "            ax[i, 3].set_xlabel('Frequency (1 / year)', fontsize=10)\n",
    "            ax[i, 3].tick_params(axis=\"x\", labelsize=10, rotation=0) \n",
    "        if i != 15:\n",
    "            ax[i, 3].set_xticks([])\n",
    "        ax[i, 3].yaxis.tick_right()\n",
    "        ax[i, 3].set_ylim(0.01, 1e9)\n",
    "        ax[i, 3].axvline(x=1, linewidth=1, color='green')\n",
    "        ax[i, 3].axvline(x=2, linewidth=1, color='green')\n",
    "        ax[i, 3].axvline(x=3, linewidth=1, color='green')\n",
    "        ax[i, 3].axvline(x=4, linewidth=1, color='red')\n",
    "        ax[i, 3].axvline(x=12, linewidth=1, color='red')\n",
    "    \n",
    "    fig.tight_layout()\n",
    "    \n",
    "    if series_type == 'pca_on_ae':\n",
    "        fig.savefig('data/images/{}/annual_series_components_pc_on_ae_bottleneck_{}_{}_to_{}_for_{}_{}.pdf'.format('autoencoder',bottleneck,components[0],components[-1],test_start,test_end))\n",
    "    else:    \n",
    "        fig.savefig('data/images/{}/annual_series_components_autoencoder_bottleneck_{}_{}_to_{}_for_{}_{}.pdf'.format(series_type,bottleneck,components[0],components[-1],test_start,test_end))\n",
    "                            \n"
   ]
  },
  {
   "cell_type": "code",
   "execution_count": 123,
   "metadata": {},
   "outputs": [],
   "source": [
    "bottleneck=64\n",
    "\n",
    "model=AutoEncoder(layers=[4,8,16,32,64])\n",
    "\n",
    "pca_ts = np.empty(shape=(0,120))\n",
    "ae_ts = np.empty(shape=(0,bottleneck))\n",
    "# pca_on_ae_ts = np.empty(shape=(0,64)) "
   ]
  },
  {
   "cell_type": "code",
   "execution_count": 124,
   "metadata": {},
   "outputs": [],
   "source": [
    "pca_model = _PCA"
   ]
  },
  {
   "cell_type": "code",
   "execution_count": 145,
   "metadata": {},
   "outputs": [],
   "source": [
    "ae_on_pca = PCA(n_components=20)"
   ]
  },
  {
   "cell_type": "code",
   "execution_count": 125,
   "metadata": {
    "scrolled": true
   },
   "outputs": [
    {
     "name": "stderr",
     "output_type": "stream",
     "text": [
      "100%|██████████| 1/1 [00:00<00:00, 29.60it/s]\n"
     ]
    }
   ],
   "source": [
    "for test_dat in tqdm(test_data):      \n",
    "    # Plain PCA\n",
    "    transformed_img = pca_model.transform(test_dat)\n",
    "    pca_ts = np.append(pca_ts, transformed_img, axis=0)\n",
    "    \n",
    "    # Autoencoder\n",
    "    encoded, _ = model(test_dat.reshape(-1, 72, 144).unsqueeze(1))\n",
    "    ae_ts = np.append(ae_ts, encoded.detach().numpy().reshape(-1,bottleneck), axis=0)\n",
    "    \n",
    "    # PCA on autoencoder\n",
    "#     transformed_img_bottleneck = pca_on_ae_model.transform(encoded.detach().numpy().reshape(-1,bottleneck))\n",
    "#     pca_on_ae_ts = np.append(pca_on_ae_ts, transformed_img_bottleneck, axis=0)"
   ]
  },
  {
   "cell_type": "code",
   "execution_count": 146,
   "metadata": {},
   "outputs": [
    {
     "data": {
      "text/plain": [
       "PCA(copy=True, iterated_power='auto', n_components=20, random_state=None,\n",
       "  svd_solver='auto', tol=0.0, whiten=False)"
      ]
     },
     "execution_count": 146,
     "metadata": {},
     "output_type": "execute_result"
    }
   ],
   "source": [
    "pca_from_ae_ts = np.empty(shape=(0,64))\n",
    "\n",
    "\n",
    "encoded, _ = model(test_data.dataset.reshape(-1,1,72,144))\n",
    "ae_on_pca.fit(encoded.detach().numpy().reshape(-1,64))\n"
   ]
  },
  {
   "cell_type": "code",
   "execution_count": 148,
   "metadata": {},
   "outputs": [],
   "source": [
    "transformed_img = ae_on_pca.transform(encoded.detach().numpy().reshape(-1,bottleneck))\n",
    "\n",
    "#     ae_ts = np.append(ae_ts, encoded.detach().numpy().reshape(-1,bottleneck), axis=0)\n",
    "#     pca_from_ae_ts = np.append(pca_from_ae_ts, transformed_img, axis=0)\n",
    "    "
   ]
  },
  {
   "cell_type": "code",
   "execution_count": 149,
   "metadata": {},
   "outputs": [],
   "source": [
    "pca_from_ae_ts = transformed_img"
   ]
  },
  {
   "cell_type": "code",
   "execution_count": 150,
   "metadata": {},
   "outputs": [
    {
     "data": {
      "text/plain": [
       "(20, 20)"
      ]
     },
     "execution_count": 150,
     "metadata": {},
     "output_type": "execute_result"
    }
   ],
   "source": [
    "pca_from_ae_ts.shape"
   ]
  },
  {
   "cell_type": "code",
   "execution_count": 151,
   "metadata": {},
   "outputs": [],
   "source": [
    "datelist = pd.date_range(pd.to_datetime(str(test_start) + '0101', format='%Y%m%d'), periods=20, freq='Y').tolist()"
   ]
  },
  {
   "cell_type": "code",
   "execution_count": 155,
   "metadata": {},
   "outputs": [],
   "source": [
    "def time_freq_pair(datelist, series, series_type, components, test_start, test_end, bottleneck):\n",
    "    fig, ax = plt.subplots(16,4, figsize=(20,30))\n",
    "    \n",
    "    for i in range(16):\n",
    "    \n",
    "        ax[i, 0].plot(datelist, series[:,i], color=\"black\")\n",
    "        if i == 15:\n",
    "            ax[i, 0].tick_params(axis=\"x\", labelsize=10, rotation=45)    \n",
    "        if i != 15:    \n",
    "            ax[i, 0].set_xticks([])\n",
    "#         ax[i, 0].set_yticks([])\n",
    "        ax[i, 0].yaxis.tick_left()\n",
    "        ax[i, 0].grid('off')\n",
    "        ax[i, 0].set_ylabel('c {}'.format(components[i], fontsize=16, color='r'))\n",
    "\n",
    "        signal_fft = sp.fftpack.fft(series[:,i])\n",
    "        power_spectrum = np.abs(signal_fft) ** 2\n",
    "        fftfreq = sp.fftpack.fftfreq(len(power_spectrum), 1. / 1.)# 365) # The frequencies will come out as YEARLY if we do this\n",
    "        j = fftfreq > 0 # Only get the real ones\n",
    "        ax[i, 1].loglog(fftfreq[j], power_spectrum[j], color=\"black\")\n",
    "        ax[i, 1].set_xlim(0.1, 370)\n",
    "        if i == 15:\n",
    "            ax[i, 1].set_xlabel('Frequency (1 / year)', fontsize=10)\n",
    "            ax[i, 1].tick_params(axis=\"x\", labelsize=10, rotation=0) \n",
    "        if i != 15:\n",
    "            ax[i, 1].set_xticks([])\n",
    "        ax[i, 1].yaxis.tick_right()\n",
    "        ax[i, 1].set_ylim(0.01, 1e9)\n",
    "        ax[i, 1].axvline(x=1, linewidth=1, color='green')\n",
    "        ax[i, 1].axvline(x=2, linewidth=1, color='green')\n",
    "        ax[i, 1].axvline(x=3, linewidth=1, color='green')\n",
    "        ax[i, 1].axvline(x=4, linewidth=1, color='red')\n",
    "        ax[i, 1].axvline(x=12, linewidth=1, color='red')\n",
    "                            \n",
    "#         ax[i, 2].plot(datelist, series[:,i+16], color=\"black\")\n",
    "#         if i == 15:\n",
    "#             ax[i, 2].tick_params(axis=\"x\", labelsize=10, rotation=45)    \n",
    "#         if i != 15:    \n",
    "#             ax[i, 2].set_xticks([])\n",
    "# #         ax[i, 2].set_yticks([])\n",
    "#         ax[i, 2].yaxis.tick_left()\n",
    "#         ax[i, 2].grid('off')\n",
    "#         ax[i, 2].set_ylabel('c {}'.format(components[i+16], fontsize=16, color='r'))\n",
    "\n",
    "#         signal_fft = sp.fftpack.fft(series[:,i+16])\n",
    "#         power_spectrum = np.abs(signal_fft) ** 2\n",
    "#         fftfreq = sp.fftpack.fftfreq(len(power_spectrum), 1. / 1.)#365) # The frequencies will come out as YEARLY if we do this\n",
    "#         j = fftfreq > 0 # Only get the real ones\n",
    "#         ax[i, 3].loglog(fftfreq[j], power_spectrum[j], color=\"black\")\n",
    "#         ax[i, 3].set_xlim(0.1, 370)\n",
    "#         if i == 15:\n",
    "#             ax[i, 3].set_xlabel('Frequency (1 / year)', fontsize=10)\n",
    "#             ax[i, 3].tick_params(axis=\"x\", labelsize=10, rotation=0) \n",
    "#         if i != 15:\n",
    "#             ax[i, 3].set_xticks([])\n",
    "#         ax[i, 3].yaxis.tick_right()\n",
    "#         ax[i, 3].set_ylim(0.01, 1e9)\n",
    "#         ax[i, 3].axvline(x=1, linewidth=1, color='green')\n",
    "#         ax[i, 3].axvline(x=2, linewidth=1, color='green')\n",
    "#         ax[i, 3].axvline(x=3, linewidth=1, color='green')\n",
    "#         ax[i, 3].axvline(x=4, linewidth=1, color='red')\n",
    "#         ax[i, 3].axvline(x=12, linewidth=1, color='red')\n",
    "    \n",
    "    fig.tight_layout()\n",
    "    \n",
    "    if series_type == 'pca_on_ae':\n",
    "        fig.savefig('data/images/{}/annual_series_components_pc_on_ae_bottleneck_{}_{}_to_{}_for_{}_{}.pdf'.format('autoencoder',bottleneck,components[0],components[-1],test_start,test_end))\n",
    "    else:    \n",
    "        fig.savefig('data/images/{}/annual_series_components_autoencoder_bottleneck_{}_{}_to_{}_for_{}_{}.pdf'.format(series_type,bottleneck,components[0],components[-1],test_start,test_end))\n",
    "                            \n"
   ]
  }
 ],
 "metadata": {
  "kernelspec": {
   "display_name": "Python 3",
   "language": "python",
   "name": "python3"
  },
  "language_info": {
   "codemirror_mode": {
    "name": "ipython",
    "version": 3
   },
   "file_extension": ".py",
   "mimetype": "text/x-python",
   "name": "python",
   "nbconvert_exporter": "python",
   "pygments_lexer": "ipython3",
   "version": "3.7.4"
  }
 },
 "nbformat": 4,
 "nbformat_minor": 2
}
